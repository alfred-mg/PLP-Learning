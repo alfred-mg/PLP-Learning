{
 "cells": [
  {
   "cell_type": "markdown",
   "id": "1b29b054-30ef-40ea-857f-b1a1f4818ae8",
   "metadata": {},
   "source": [
    "# PLP LEARNING\n",
    "## Week 3 Assignment"
   ]
  },
  {
   "cell_type": "markdown",
   "id": "f70719e9-3614-47ad-8f67-d6b07b3d6580",
   "metadata": {},
   "source": [
    "Create a function named calculate_discount(price, discount_percent) that calculates the final price after applying a discount. The function should take the original price (price) and the discount percentage (discount_percent) as parameters. If the discount is 20% or higher, apply the discount; otherwise, return the original price"
   ]
  },
  {
   "cell_type": "code",
   "execution_count": 14,
   "id": "29aa36df-8208-4fa3-9251-3bad4422e238",
   "metadata": {},
   "outputs": [
    {
     "name": "stdout",
     "output_type": "stream",
     "text": [
      "100\n",
      "80.0\n",
      "64.5\n"
     ]
    }
   ],
   "source": [
    "# creating a function\n",
    "def calculate_discount(price, discount_percent):\n",
    "    # checking if it is greater than 20%\n",
    "    if discount_percent >= 20:\n",
    "        final_price = price * ((100 - discount_percent)/100)\n",
    "    else:\n",
    "        final_price = price\n",
    "    return final_price\n",
    "\n",
    "# displaying the results by calling the function\n",
    "print(calculate_discount(100, 19))\n",
    "print(calculate_discount(100, 20))\n",
    "print(calculate_discount(100, 35.5))"
   ]
  },
  {
   "cell_type": "markdown",
   "id": "f065ebe0-374c-4565-9785-411b0f88c65d",
   "metadata": {},
   "source": [
    "Using the calculate_discount function, prompt the user to enter the original price of an item and the discount percentage. Print the final price after applying the discount, or if no discount was applied, print the original price."
   ]
  },
  {
   "cell_type": "code",
   "execution_count": 15,
   "id": "3348a015-e040-47a4-8a01-6a108681bf99",
   "metadata": {},
   "outputs": [
    {
     "name": "stdin",
     "output_type": "stream",
     "text": [
      "Enter Price and Discount Separeted by space:  500 25\n"
     ]
    },
    {
     "name": "stdout",
     "output_type": "stream",
     "text": [
      "375.0\n"
     ]
    }
   ],
   "source": [
    "# user input for price and discount\n",
    "Price, Discount = input('Enter Price and Discount Separeted by space: ').split()\n",
    "\n",
    "# converting the two into integers\n",
    "Price = int(Price)\n",
    "Discount = int(Discount)\n",
    "\n",
    "# displaying the results\n",
    "print(calculate_discount(Price, Discount))"
   ]
  }
 ],
 "metadata": {
  "kernelspec": {
   "display_name": "Python 3 (ipykernel)",
   "language": "python",
   "name": "python3"
  },
  "language_info": {
   "codemirror_mode": {
    "name": "ipython",
    "version": 3
   },
   "file_extension": ".py",
   "mimetype": "text/x-python",
   "name": "python",
   "nbconvert_exporter": "python",
   "pygments_lexer": "ipython3",
   "version": "3.8.18"
  }
 },
 "nbformat": 4,
 "nbformat_minor": 5
}
