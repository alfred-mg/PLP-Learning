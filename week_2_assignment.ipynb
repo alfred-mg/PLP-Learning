{
 "cells": [
  {
   "cell_type": "markdown",
   "id": "629fe086-7b69-4d30-ac87-61db5d084f1a",
   "metadata": {},
   "source": [
    "# PLP LEARNING"
   ]
  },
  {
   "cell_type": "markdown",
   "id": "e87c64f2-a17d-49df-9633-2cf66e8a852f",
   "metadata": {},
   "source": [
    "## Week 2 Assignment"
   ]
  },
  {
   "cell_type": "code",
   "execution_count": 58,
   "id": "a06f59eb-b8a3-4e74-99bc-8305d2d3c8ee",
   "metadata": {},
   "outputs": [
    {
     "data": {
      "text/plain": [
       "[10, 20, 30, 40]"
      ]
     },
     "execution_count": 58,
     "metadata": {},
     "output_type": "execute_result"
    }
   ],
   "source": [
    "# Create an empty list called my_list.\n",
    "my_list = []\n",
    "\n",
    "# Append the following elements to my_list: 10, 20, 30, 40.\n",
    "my_list.append(10)\n",
    "my_list.append(20)\n",
    "my_list.append(30)\n",
    "my_list.append(40)\n",
    "\n",
    "# displaying the list\n",
    "my_list"
   ]
  },
  {
   "cell_type": "code",
   "execution_count": 59,
   "id": "0ccae7bd-23d0-40ee-a72c-54ec69c392af",
   "metadata": {},
   "outputs": [
    {
     "data": {
      "text/plain": [
       "[10, 15, 30, 40]"
      ]
     },
     "execution_count": 59,
     "metadata": {},
     "output_type": "execute_result"
    }
   ],
   "source": [
    "# Insert the value 15 at the second position in the list.\n",
    "my_list[1] = 15\n",
    "\n",
    "# displaying the list\n",
    "my_list"
   ]
  },
  {
   "cell_type": "code",
   "execution_count": 60,
   "id": "640756aa-0406-4609-b221-0918f329bbcb",
   "metadata": {},
   "outputs": [
    {
     "data": {
      "text/plain": [
       "[10, 15, 30, 40, 50, 60, 70]"
      ]
     },
     "execution_count": 60,
     "metadata": {},
     "output_type": "execute_result"
    }
   ],
   "source": [
    "# Extend my_list with another list: [50, 60, 70].\n",
    "my_list.extend([50, 60, 70])\n",
    "\n",
    "# displaying the list\n",
    "my_list"
   ]
  },
  {
   "cell_type": "code",
   "execution_count": 61,
   "id": "87e7c948-830b-4482-8e60-a03a4265b6b9",
   "metadata": {},
   "outputs": [
    {
     "data": {
      "text/plain": [
       "[10, 15, 30, 40, 50, 60]"
      ]
     },
     "execution_count": 61,
     "metadata": {},
     "output_type": "execute_result"
    }
   ],
   "source": [
    "# Remove the last element from my_list.\n",
    "del my_list[-1]\n",
    "\n",
    "# displaying the list\n",
    "my_list"
   ]
  },
  {
   "cell_type": "code",
   "execution_count": 62,
   "id": "88a122a3-b2ed-4fcf-a220-71d6cf036082",
   "metadata": {},
   "outputs": [
    {
     "data": {
      "text/plain": [
       "[10, 15, 30, 40, 50, 60]"
      ]
     },
     "execution_count": 62,
     "metadata": {},
     "output_type": "execute_result"
    }
   ],
   "source": [
    "# Sort my_list in ascending order.\n",
    "my_list.sort()\n",
    "\n",
    "# displaying the list\n",
    "my_list"
   ]
  },
  {
   "cell_type": "code",
   "execution_count": 63,
   "id": "ba96dba3-0ae0-4a3a-b709-afb312d07811",
   "metadata": {},
   "outputs": [
    {
     "name": "stdout",
     "output_type": "stream",
     "text": [
      "2\n"
     ]
    }
   ],
   "source": [
    "# Find and print the index of the value 30 in my_list.\n",
    "print(my_list.index(30))"
   ]
  }
 ],
 "metadata": {
  "kernelspec": {
   "display_name": "Python 3 (ipykernel)",
   "language": "python",
   "name": "python3"
  },
  "language_info": {
   "codemirror_mode": {
    "name": "ipython",
    "version": 3
   },
   "file_extension": ".py",
   "mimetype": "text/x-python",
   "name": "python",
   "nbconvert_exporter": "python",
   "pygments_lexer": "ipython3",
   "version": "3.8.18"
  }
 },
 "nbformat": 4,
 "nbformat_minor": 5
}
